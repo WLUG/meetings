{
 "cells": [
  {
   "cell_type": "markdown",
   "metadata": {},
   "source": [
    "# Example Uses Of “`%%script`” Magic #\n",
    "\n",
    "The `%%script` cell magic allows the invocation of any number of external languages without the need for installing any custom Jupyter kernels. The drawback is that there is no context maintained between one cell invocation and the next. Another drawback is that the notebook interface insists on syntax-colouring the cell contents as though it were Python code.\n",
    "\n",
    "The syntax is\n",
    "\n",
    "> `%%script` _commandline_\n",
    "\n",
    "Simple example: bash"
   ]
  },
  {
   "cell_type": "code",
   "execution_count": 1,
   "metadata": {},
   "outputs": [
    {
     "name": "stdout",
     "output_type": "stream",
     "text": [
      "hi there!\n"
     ]
    }
   ],
   "source": [
    "%%script bash\n",
    "echo 'hi there!'"
   ]
  },
  {
   "cell_type": "markdown",
   "metadata": {},
   "source": [
    "Use with SBCL:"
   ]
  },
  {
   "cell_type": "code",
   "execution_count": 2,
   "metadata": {},
   "outputs": [
    {
     "name": "stdout",
     "output_type": "stream",
     "text": [
      "This is SBCL 2.0.1.debian, an implementation of ANSI Common Lisp.\n",
      "More information about SBCL is available at <http://www.sbcl.org/>.\n",
      "\n",
      "SBCL is free software, provided as is, with absolutely no warranty.\n",
      "It is mostly in the public domain; some portions are provided under\n",
      "BSD-style licenses.  See the CREDITS and COPYING files in the\n",
      "distribution for more information.\n",
      "* 4\n",
      "* "
     ]
    }
   ],
   "source": [
    "%%script sbcl\n",
    "(+ 2 2)"
   ]
  },
  {
   "cell_type": "markdown",
   "metadata": {},
   "source": [
    "You probably want to turn off the startup banner message, and the “\\*” characters from the default prompting for input by the REPL. The `--script` option does this, but it also turns off automatic output of expression values:"
   ]
  },
  {
   "cell_type": "code",
   "execution_count": 3,
   "metadata": {},
   "outputs": [
    {
     "name": "stdout",
     "output_type": "stream",
     "text": [
      "4"
     ]
    }
   ],
   "source": [
    "%%script sbcl --script\n",
    "(+ 2 2) ; produces no output\n",
    "(princ (+ 2 2)) ; need to do explicit output"
   ]
  },
  {
   "cell_type": "markdown",
   "metadata": {},
   "source": [
    "This may be OK for running functional scripts, but it is not so convenient for simple experimentation.\n",
    "\n",
    "Alternatively, the `--noinform` option turns off the startup banner. You can then change the prompt to the empty string by setting the SBCL-specific `sb-aclrepl:*prompt*` variable. To access this, you need to `require` the `sb-aclrepl` package. To avoid spurious output, this can all be done with `--eval` options on the command line:"
   ]
  },
  {
   "cell_type": "code",
   "execution_count": 4,
   "metadata": {},
   "outputs": [
    {
     "name": "stdout",
     "output_type": "stream",
     "text": [
      "4\n"
     ]
    }
   ],
   "source": [
    "%%script sbcl --noinform --eval \"(require 'sb-aclrepl)\"  --eval \"(setq sb-aclrepl:*prompt* \\\"\\\")\"\n",
    "(+ 2 2)"
   ]
  },
  {
   "cell_type": "markdown",
   "metadata": {},
   "source": [
    "Just to make clear the fact that function names and variable names exist in separate name spaces: in the following example, “+” is used as the name of a variable _and_ to refer to the built-in addition function."
   ]
  },
  {
   "cell_type": "code",
   "execution_count": 5,
   "metadata": {},
   "outputs": [
    {
     "name": "stdout",
     "output_type": "stream",
     "text": [
      "4"
     ]
    }
   ],
   "source": [
    "%%script sbcl --script\n",
    "(setf + 2)\n",
    "(princ (+ + +))"
   ]
  },
  {
   "cell_type": "markdown",
   "metadata": {},
   "source": [
    "Note that access to command-line arguments is not a standard feature of Common Lisp. SBCL provides an extension to do this:"
   ]
  },
  {
   "cell_type": "code",
   "execution_count": 6,
   "metadata": {},
   "outputs": [
    {
     "name": "stdout",
     "output_type": "stream",
     "text": [
      "\n",
      "(\"sbcl\" \"the\" \"quick\" \"brown\" \"fox\") "
     ]
    }
   ],
   "source": [
    "%%script sbcl --script /dev/stdin the quick brown fox\n",
    "(print sb-ext:*posix-argv*)"
   ]
  },
  {
   "cell_type": "markdown",
   "metadata": {},
   "source": [
    "My example of computing the first _n_ terms of a Fibonacci series:"
   ]
  },
  {
   "cell_type": "code",
   "execution_count": 7,
   "metadata": {},
   "outputs": [
    {
     "name": "stdout",
     "output_type": "stream",
     "text": [
      "1\n",
      "2\n",
      "3\n",
      "5\n",
      "8\n",
      "13\n",
      "21\n",
      "34\n",
      "55\n",
      "89\n",
      "144\n",
      "233\n",
      "377\n",
      "610\n",
      "987\n"
     ]
    }
   ],
   "source": [
    "%%script sbcl --script\n",
    "(defvar n 15) ; change as required\n",
    "(do\n",
    "\t(\n",
    "\t\t(a 1 (+ a b))\n",
    "\t\t(b 1 a)\n",
    "\t\t(i 0 (+ i 1))\n",
    "\t)\n",
    "\t((>= i n))\n",
    "\n",
    "\t(format *standard-output* \"~A~%\" a)\n",
    ") ; do\n"
   ]
  },
  {
   "cell_type": "markdown",
   "metadata": {},
   "source": [
    "Jake’s example of lexical binding in action:"
   ]
  },
  {
   "cell_type": "code",
   "execution_count": 8,
   "metadata": {},
   "outputs": [
    {
     "name": "stdout",
     "output_type": "stream",
     "text": [
      "#<CLOSURE (LAMBDA ()) {100282599B}>\n",
      "1\n",
      "2\n",
      "3\n"
     ]
    }
   ],
   "source": [
    "%%script sbcl --noinform --eval \"(require 'sb-aclrepl)\" --eval \"(setq sb-aclrepl:*prompt* \\\"\\\")\"\n",
    "\n",
    "(setf (symbol-function 'counter)\n",
    "    (let ((count 0))\n",
    "        (lambda ()\n",
    "             (if (> count 5)\n",
    "                (setf count 0)\n",
    "                (incf count)\n",
    "             ) ; if\n",
    "        ) ; lambda\n",
    "    ) ; let\n",
    ")\n",
    "\n",
    "(counter)\n",
    "(counter)\n",
    "(counter)"
   ]
  },
  {
   "cell_type": "markdown",
   "metadata": {},
   "source": [
    "A more elaborate `%%script` example: compiling and running an entire C program in a cell!"
   ]
  },
  {
   "cell_type": "code",
   "execution_count": 9,
   "metadata": {},
   "outputs": [
    {
     "name": "stdout",
     "output_type": "stream",
     "text": [
      "hello, world!\n",
      "removed '/tmp/tmp.Tj1kFiTPJG/test.c'\n",
      "removed '/tmp/tmp.Tj1kFiTPJG/test'\n",
      "removed directory '/tmp/tmp.Tj1kFiTPJG'\n"
     ]
    }
   ],
   "source": [
    "%%script bash\n",
    "set -e\n",
    "\n",
    "WORKDIR=$(mktemp -d)\n",
    "cd \"$WORKDIR\"\n",
    "\n",
    "cat >test.c <<EOD\n",
    "#include <stdio.h>\n",
    "\n",
    "int main(int argc, char **argv)\n",
    "  {\n",
    "    fputs(\"hello, world!\\n\", stdout);\n",
    "  } /*main*/\n",
    "EOD\n",
    "\n",
    "gcc -o test test.c\n",
    "\n",
    "./test\n",
    "\n",
    "cd\n",
    "rm -rfv \"$WORKDIR\""
   ]
  },
  {
   "cell_type": "markdown",
   "metadata": {},
   "source": [
    "See also: [this list](https://ipython.readthedocs.io/en/stable/interactive/magics.html) of standard magic commands."
   ]
  },
  {
   "cell_type": "code",
   "execution_count": null,
   "metadata": {},
   "outputs": [],
   "source": []
  }
 ],
 "metadata": {
  "kernelspec": {
   "display_name": "Python 3",
   "language": "python",
   "name": "python3"
  },
  "language_info": {
   "codemirror_mode": {
    "name": "ipython",
    "version": 3
   },
   "file_extension": ".py",
   "mimetype": "text/x-python",
   "name": "python",
   "nbconvert_exporter": "python",
   "pygments_lexer": "ipython3",
   "version": "3.8.5"
  }
 },
 "nbformat": 4,
 "nbformat_minor": 2
}
